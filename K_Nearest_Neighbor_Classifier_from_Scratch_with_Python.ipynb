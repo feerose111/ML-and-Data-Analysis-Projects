{
  "nbformat": 4,
  "nbformat_minor": 0,
  "metadata": {
    "colab": {
      "provenance": [],
      "authorship_tag": "ABX9TyPFC3MlCltTuEWhjirqEI5B",
      "include_colab_link": true
    },
    "kernelspec": {
      "name": "python3",
      "display_name": "Python 3"
    },
    "language_info": {
      "name": "python"
    }
  },
  "cells": [
    {
      "cell_type": "markdown",
      "metadata": {
        "id": "view-in-github",
        "colab_type": "text"
      },
      "source": [
        "<a href=\"https://colab.research.google.com/github/feerose111/ML-and-Data-Analysis-Projects/blob/main/K_Nearest_Neighbor_Classifier_from_Scratch_with_Python.ipynb\" target=\"_parent\"><img src=\"https://colab.research.google.com/assets/colab-badge.svg\" alt=\"Open In Colab\"/></a>"
      ]
    },
    {
      "cell_type": "markdown",
      "source": [
        "IMporting the dependencies"
      ],
      "metadata": {
        "id": "BUNU0BBAg3fg"
      }
    },
    {
      "cell_type": "code",
      "execution_count": 1,
      "metadata": {
        "id": "2knWYs0hCcBv"
      },
      "outputs": [],
      "source": [
        "import numpy as np\n",
        "import statistics"
      ]
    },
    {
      "cell_type": "code",
      "source": [
        "class KNN_classifier():\n",
        "\n",
        "  #initiating the parameters\n",
        "  def __init__(self, distance_metric):\n",
        "\n",
        "    self.distance_metric = distance_metric\n",
        "\n",
        "\n",
        "  #getting diatance metric\n",
        "  def get_distance_metric(self, training_data_point, test_data_point):\n",
        "\n",
        "    if(self.distance_metric == \" euclidean\"):\n",
        "\n",
        "      dist = 0\n",
        "\n",
        "      for i in range(len(training_data_point) - 1):\n",
        "\n",
        "        dist += (training_data_point[i]  -  test_data_point[i])**2\n",
        "\n",
        "      euclidean_distance = np.sqrt(dist)\n",
        "      return euclidean_distance\n",
        "\n",
        "    elif(self.distance_metric == \"manhattan\"):\n",
        "\n",
        "      dist = 0\n",
        "\n",
        "      for i in range(len(training_data_point) - 1):\n",
        "\n",
        "        dist += abs(training_data_point[i]  -  test_data_point[i])\n",
        "\n",
        "      manhattan_distance = dist\n",
        "      return manhattan_distance\n",
        "\n",
        "\n",
        "  #getting the nearest neighbor\n",
        "  def nearest_neighbor(self, X_train, test_data , k):\n",
        "\n",
        "      distance_list = []\n",
        "\n",
        "      for training_data in X_train:\n",
        "\n",
        "        distance = self.get_distance_metric(training_data, test_data)\n",
        "        distance_list.append(training_data, distance)\n",
        "\n",
        "      distance_list.sort(key = lambda x:x[1])\n",
        "\n",
        "      neighbors_list = []\n",
        "\n",
        "      for j in range(k):\n",
        "\n",
        "        neighbors_list.append(distance_list[j][0])\n",
        "\n",
        "      return neighbors_list\n",
        "\n",
        "\n",
        "\n",
        "  #predict the class of new data point\n",
        "  def predict(self, X_train, test_data, k):\n",
        "\n",
        "    neighbors = self.nearest_neighbor(X_train, test_data, k)\n",
        "\n",
        "    for data in neighbors:\n",
        "\n",
        "      label = []\n",
        "      label.append(data[-1])\n",
        "\n",
        "    predicted_class = statistics.mode(label)\n",
        "    return predicted_class\n",
        "\n",
        "\n"
      ],
      "metadata": {
        "id": "bmn4-y2qg_Vm"
      },
      "execution_count": null,
      "outputs": []
    }
  ]
}